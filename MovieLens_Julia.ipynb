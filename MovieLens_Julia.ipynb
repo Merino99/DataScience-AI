{
 "cells": [
  {
   "cell_type": "code",
   "execution_count": 1,
   "metadata": {},
   "outputs": [],
   "source": [
    "using Pkg\n",
    "#Pkg.add(\"CSV\")\n",
    "#Pkg.add(\"Printf\")\n",
    "#Pkg.add(\"DataFrames\")\n",
    "#Pkg.add(\"Tables\")\n",
    "#Pkg.add(\"Statistics\")\n",
    "#Pkg.add(\"Query\")\n",
    "#Pkg.add(\"CUDA\")\n",
    "#Pkg.add(\"Dates\")\n",
    "#Pkg.add(\"Printf\")\n",
    "#Pkg.add(\"BenchmarkTools\")\n",
    "using CSV\n",
    "using DataFrames\n",
    "using Printf\n",
    "using PrettyTables\n",
    "#using Tables\n",
    "#using Statistics\n",
    "#using Query\n",
    "#using CUDA\n",
    "using Dates\n",
    "#using Printf\n",
    "#using Base.Threads\n",
    "using BenchmarkTools"
   ]
  },
  {
   "cell_type": "code",
   "execution_count": 2,
   "metadata": {},
   "outputs": [
    {
     "data": {
      "text/html": [
       "<div><div style = \"float: left;\"><span>62423×2 DataFrame</span></div><div style = \"float: right;\"><span style = \"font-style: italic;\">62398 rows omitted</span></div><div style = \"clear: both;\"></div></div><div class = \"data-frame\" style = \"overflow-x: scroll;\"><table class = \"data-frame\" style = \"margin-bottom: 6px;\"><thead><tr class = \"header\"><th class = \"rowNumber\" style = \"font-weight: bold; text-align: right;\">Row</th><th style = \"text-align: left;\">movieId</th><th style = \"text-align: left;\">genres</th></tr><tr class = \"subheader headerLastRow\"><th class = \"rowNumber\" style = \"font-weight: bold; text-align: right;\"></th><th title = \"Int64\" style = \"text-align: left;\">Int64</th><th title = \"String\" style = \"text-align: left;\">String</th></tr></thead><tbody><tr><td class = \"rowNumber\" style = \"font-weight: bold; text-align: right;\">1</td><td style = \"text-align: right;\">1</td><td style = \"text-align: left;\">Adventure|Animation|Children|Comedy|Fantasy</td></tr><tr><td class = \"rowNumber\" style = \"font-weight: bold; text-align: right;\">2</td><td style = \"text-align: right;\">2</td><td style = \"text-align: left;\">Adventure|Children|Fantasy</td></tr><tr><td class = \"rowNumber\" style = \"font-weight: bold; text-align: right;\">3</td><td style = \"text-align: right;\">3</td><td style = \"text-align: left;\">Comedy|Romance</td></tr><tr><td class = \"rowNumber\" style = \"font-weight: bold; text-align: right;\">4</td><td style = \"text-align: right;\">4</td><td style = \"text-align: left;\">Comedy|Drama|Romance</td></tr><tr><td class = \"rowNumber\" style = \"font-weight: bold; text-align: right;\">5</td><td style = \"text-align: right;\">5</td><td style = \"text-align: left;\">Comedy</td></tr><tr><td class = \"rowNumber\" style = \"font-weight: bold; text-align: right;\">6</td><td style = \"text-align: right;\">6</td><td style = \"text-align: left;\">Action|Crime|Thriller</td></tr><tr><td class = \"rowNumber\" style = \"font-weight: bold; text-align: right;\">7</td><td style = \"text-align: right;\">7</td><td style = \"text-align: left;\">Comedy|Romance</td></tr><tr><td class = \"rowNumber\" style = \"font-weight: bold; text-align: right;\">8</td><td style = \"text-align: right;\">8</td><td style = \"text-align: left;\">Adventure|Children</td></tr><tr><td class = \"rowNumber\" style = \"font-weight: bold; text-align: right;\">9</td><td style = \"text-align: right;\">9</td><td style = \"text-align: left;\">Action</td></tr><tr><td class = \"rowNumber\" style = \"font-weight: bold; text-align: right;\">10</td><td style = \"text-align: right;\">10</td><td style = \"text-align: left;\">Action|Adventure|Thriller</td></tr><tr><td class = \"rowNumber\" style = \"font-weight: bold; text-align: right;\">11</td><td style = \"text-align: right;\">11</td><td style = \"text-align: left;\">Comedy|Drama|Romance</td></tr><tr><td class = \"rowNumber\" style = \"font-weight: bold; text-align: right;\">12</td><td style = \"text-align: right;\">12</td><td style = \"text-align: left;\">Comedy|Horror</td></tr><tr><td class = \"rowNumber\" style = \"font-weight: bold; text-align: right;\">13</td><td style = \"text-align: right;\">13</td><td style = \"text-align: left;\">Adventure|Animation|Children</td></tr><tr><td style = \"text-align: right;\">&vellip;</td><td style = \"text-align: right;\">&vellip;</td><td style = \"text-align: right;\">&vellip;</td></tr><tr><td class = \"rowNumber\" style = \"font-weight: bold; text-align: right;\">62412</td><td style = \"text-align: right;\">209141</td><td style = \"text-align: left;\">Comedy</td></tr><tr><td class = \"rowNumber\" style = \"font-weight: bold; text-align: right;\">62413</td><td style = \"text-align: right;\">209143</td><td style = \"text-align: left;\">Animation|Documentary</td></tr><tr><td class = \"rowNumber\" style = \"font-weight: bold; text-align: right;\">62414</td><td style = \"text-align: right;\">209145</td><td style = \"text-align: left;\">Drama</td></tr><tr><td class = \"rowNumber\" style = \"font-weight: bold; text-align: right;\">62415</td><td style = \"text-align: right;\">209147</td><td style = \"text-align: left;\">Crime|Horror</td></tr><tr><td class = \"rowNumber\" style = \"font-weight: bold; text-align: right;\">62416</td><td style = \"text-align: right;\">209151</td><td style = \"text-align: left;\">(no genres listed)</td></tr><tr><td class = \"rowNumber\" style = \"font-weight: bold; text-align: right;\">62417</td><td style = \"text-align: right;\">209153</td><td style = \"text-align: left;\">Comedy|Drama</td></tr><tr><td class = \"rowNumber\" style = \"font-weight: bold; text-align: right;\">62418</td><td style = \"text-align: right;\">209155</td><td style = \"text-align: left;\">Action|Comedy|Romance</td></tr><tr><td class = \"rowNumber\" style = \"font-weight: bold; text-align: right;\">62419</td><td style = \"text-align: right;\">209157</td><td style = \"text-align: left;\">Drama</td></tr><tr><td class = \"rowNumber\" style = \"font-weight: bold; text-align: right;\">62420</td><td style = \"text-align: right;\">209159</td><td style = \"text-align: left;\">Documentary</td></tr><tr><td class = \"rowNumber\" style = \"font-weight: bold; text-align: right;\">62421</td><td style = \"text-align: right;\">209163</td><td style = \"text-align: left;\">Comedy|Drama</td></tr><tr><td class = \"rowNumber\" style = \"font-weight: bold; text-align: right;\">62422</td><td style = \"text-align: right;\">209169</td><td style = \"text-align: left;\">(no genres listed)</td></tr><tr><td class = \"rowNumber\" style = \"font-weight: bold; text-align: right;\">62423</td><td style = \"text-align: right;\">209171</td><td style = \"text-align: left;\">Action|Adventure|Drama</td></tr></tbody></table></div>"
      ],
      "text/latex": [
       "\\begin{tabular}{r|cc}\n",
       "\t& movieId & genres\\\\\n",
       "\t\\hline\n",
       "\t& Int64 & String\\\\\n",
       "\t\\hline\n",
       "\t1 & 1 & Adventure|Animation|Children|Comedy|Fantasy \\\\\n",
       "\t2 & 2 & Adventure|Children|Fantasy \\\\\n",
       "\t3 & 3 & Comedy|Romance \\\\\n",
       "\t4 & 4 & Comedy|Drama|Romance \\\\\n",
       "\t5 & 5 & Comedy \\\\\n",
       "\t6 & 6 & Action|Crime|Thriller \\\\\n",
       "\t7 & 7 & Comedy|Romance \\\\\n",
       "\t8 & 8 & Adventure|Children \\\\\n",
       "\t9 & 9 & Action \\\\\n",
       "\t10 & 10 & Action|Adventure|Thriller \\\\\n",
       "\t11 & 11 & Comedy|Drama|Romance \\\\\n",
       "\t12 & 12 & Comedy|Horror \\\\\n",
       "\t13 & 13 & Adventure|Animation|Children \\\\\n",
       "\t14 & 14 & Drama \\\\\n",
       "\t15 & 15 & Action|Adventure|Romance \\\\\n",
       "\t16 & 16 & Crime|Drama \\\\\n",
       "\t17 & 17 & Drama|Romance \\\\\n",
       "\t18 & 18 & Comedy \\\\\n",
       "\t19 & 19 & Comedy \\\\\n",
       "\t20 & 20 & Action|Comedy|Crime|Drama|Thriller \\\\\n",
       "\t21 & 21 & Comedy|Crime|Thriller \\\\\n",
       "\t22 & 22 & Crime|Drama|Horror|Mystery|Thriller \\\\\n",
       "\t23 & 23 & Action|Crime|Thriller \\\\\n",
       "\t24 & 24 & Drama|Sci-Fi \\\\\n",
       "\t25 & 25 & Drama|Romance \\\\\n",
       "\t26 & 26 & Drama \\\\\n",
       "\t27 & 27 & Children|Drama \\\\\n",
       "\t28 & 28 & Drama|Romance \\\\\n",
       "\t29 & 29 & Adventure|Drama|Fantasy|Mystery|Sci-Fi \\\\\n",
       "\t30 & 30 & Crime|Drama \\\\\n",
       "\t$\\dots$ & $\\dots$ & $\\dots$ \\\\\n",
       "\\end{tabular}\n"
      ],
      "text/plain": [
       "\u001b[1m62423×2 DataFrame\u001b[0m\n",
       "\u001b[1m   Row \u001b[0m│\u001b[1m movieId \u001b[0m\u001b[1m genres                            \u001b[0m\n",
       "       │\u001b[90m Int64   \u001b[0m\u001b[90m String                            \u001b[0m\n",
       "───────┼────────────────────────────────────────────\n",
       "     1 │       1  Adventure|Animation|Children|Com…\n",
       "     2 │       2  Adventure|Children|Fantasy\n",
       "     3 │       3  Comedy|Romance\n",
       "     4 │       4  Comedy|Drama|Romance\n",
       "     5 │       5  Comedy\n",
       "     6 │       6  Action|Crime|Thriller\n",
       "     7 │       7  Comedy|Romance\n",
       "     8 │       8  Adventure|Children\n",
       "     9 │       9  Action\n",
       "    10 │      10  Action|Adventure|Thriller\n",
       "    11 │      11  Comedy|Drama|Romance\n",
       "   ⋮   │    ⋮                     ⋮\n",
       " 62414 │  209145  Drama\n",
       " 62415 │  209147  Crime|Horror\n",
       " 62416 │  209151  (no genres listed)\n",
       " 62417 │  209153  Comedy|Drama\n",
       " 62418 │  209155  Action|Comedy|Romance\n",
       " 62419 │  209157  Drama\n",
       " 62420 │  209159  Documentary\n",
       " 62421 │  209163  Comedy|Drama\n",
       " 62422 │  209169  (no genres listed)\n",
       " 62423 │  209171  Action|Adventure|Drama\n",
       "\u001b[36m                                  62402 rows omitted\u001b[0m"
      ]
     },
     "execution_count": 2,
     "metadata": {},
     "output_type": "execute_result"
    }
   ],
   "source": [
    "df_ratings = CSV.read(\"/Users/sebastianmerino/Documents/Learning/Diplomado IA/Movie Lens Project/ratings.csv\", DataFrame)\n",
    "df_movies = CSV.read(\"/Users/sebastianmerino/Documents/Learning/Diplomado IA/Movie Lens Project/movies.csv\", DataFrame)\n",
    "df_movies_reduced = select(df_movies, [:movieId, :genres])"
   ]
  },
  {
   "cell_type": "code",
   "execution_count": 3,
   "metadata": {},
   "outputs": [
    {
     "name": "stdout",
     "output_type": "stream",
     "text": [
      "Filas del archivo ratings: 25000095, Filas del archivo movies: 62423"
     ]
    }
   ],
   "source": [
    "# Contando el numero de registros del archivo\n",
    "num_rows_ratings = nrow(df_ratings)\n",
    "num_rows_movies = nrow(df_movies)\n",
    "\n",
    "print(\"Filas del archivo ratings: \", num_rows_ratings, \", Filas del archivo movies: \", num_rows_movies)"
   ]
  },
  {
   "cell_type": "code",
   "execution_count": 4,
   "metadata": {},
   "outputs": [
    {
     "data": {
      "text/plain": [
       "file_splitter (generic function with 2 methods)"
      ]
     },
     "execution_count": 4,
     "metadata": {},
     "output_type": "execute_result"
    }
   ],
   "source": [
    "# Numero de Chunks\n",
    "n = 10\n",
    "filas_archivo = num_rows_ratings/n\n",
    "Num_archivos = num_rows_ratings/filas_archivo\n",
    "\n",
    "# Definimos el path de salida \n",
    "path = \"/Users/sebastianmerino/Documents/Learning/Diplomado IA/Movie Lens Project/Splitted File/\"\n",
    "\n",
    "# Definimos la función que nos divide el archivo en chunks\n",
    "function file_splitter(n=10)\n",
    "    println(\"Dividiendo el file en $n chunks\")\n",
    "    # Capturamos la hora de inicio\n",
    "    start_time = now()\n",
    "\n",
    "    for i in 1:n\n",
    "        inicio = (i-1)*filas_archivo+1\n",
    "        if i < n\n",
    "            final = i*filas_archivo\n",
    "        else i=n\n",
    "            final = num_rows_ratings\n",
    "        end\n",
    "        inicio = ceil(Int, inicio)\n",
    "        final = ceil(Int, final)\n",
    "        DF_aux = df_ratings[Int(inicio):Int(final), :]\n",
    "        CSV.write(joinpath(path,\"Archivo_$(i).csv\"),DF_aux)\n",
    "        println(\"Iteración No: \",i)\n",
    "        @printf(\"%d\\n\",inicio)\n",
    "        @printf(\"%d\\n\",final)\n",
    "    end\n",
    "    # Capturamos la hora de fin\n",
    "    end_time = now()\n",
    "    # Calculamos el tiempo de ejecución\n",
    "    tiempo_ejecucion = end_time - start_time\n",
    "    println(\"Tiempo de ejecución: \", tiempo_ejecucion)\n",
    "end"
   ]
  },
  {
   "cell_type": "code",
   "execution_count": 5,
   "metadata": {},
   "outputs": [
    {
     "name": "stdout",
     "output_type": "stream",
     "text": [
      "Dividiendo el file en 10 chunks\n",
      "Iteración No: 1\n",
      "1\n",
      "2500010\n",
      "Iteración No: 2\n",
      "2500011\n",
      "5000019\n",
      "Iteración No: 3\n",
      "5000020\n",
      "7500029\n",
      "Iteración No: 4\n",
      "7500030\n",
      "10000038\n",
      "Iteración No: 5\n",
      "10000039\n",
      "12500048\n",
      "Iteración No: 6\n",
      "12500049\n",
      "15000057\n",
      "Iteración No: 7\n",
      "15000058\n",
      "17500067\n",
      "Iteración No: 8\n",
      "17500068\n",
      "20000076\n",
      "Iteración No: 9\n",
      "20000077\n",
      "22500086\n",
      "Iteración No: 10\n",
      "22500087\n",
      "25000095\n",
      "Tiempo de ejecución: 9608 milliseconds\n"
     ]
    }
   ],
   "source": [
    "# Ejecutamos la función que divide ratings\n",
    "file_splitter(n)"
   ]
  },
  {
   "cell_type": "code",
   "execution_count": 6,
   "metadata": {},
   "outputs": [
    {
     "data": {
      "text/plain": [
       "read_separated_files (generic function with 1 method)"
      ]
     },
     "execution_count": 6,
     "metadata": {},
     "output_type": "execute_result"
    }
   ],
   "source": [
    "# Creamos la función que se encargará de realizar la lectura de los csv\n",
    "function read_separated_files(base_name::String, n::Int)\n",
    "    # Pre-identificamos los archivos que se van a leer en un diccionario\n",
    "    dataframes = Dict{String, DataFrame}()\n",
    "\n",
    "    # Leemos los csv\n",
    "    for i in 1:n\n",
    "        file_name = joinpath(path, \"$(base_name)_$(i).csv\")\n",
    "        var_name = \"$(base_name)_$(i)\"\n",
    "        dataframes[var_name] = CSV.read(file_name, DataFrame)\n",
    "    end\n",
    "\n",
    "    return dataframes\n",
    "end"
   ]
  },
  {
   "cell_type": "code",
   "execution_count": 7,
   "metadata": {},
   "outputs": [
    {
     "data": {
      "text/plain": [
       "Dict{String, DataFrame} with 10 entries:\n",
       "  \"Archivo_7\"  => \u001b[1m2500010×4 DataFrame\u001b[0m\u001b[0m…\n",
       "  \"Archivo_9\"  => \u001b[1m2500010×4 DataFrame\u001b[0m\u001b[0m…\n",
       "  \"Archivo_2\"  => \u001b[1m2500009×4 DataFrame\u001b[0m\u001b[0m…\n",
       "  \"Archivo_6\"  => \u001b[1m2500009×4 DataFrame\u001b[0m\u001b[0m…\n",
       "  \"Archivo_5\"  => \u001b[1m2500010×4 DataFrame\u001b[0m\u001b[0m…\n",
       "  \"Archivo_8\"  => \u001b[1m2500009×4 DataFrame\u001b[0m\u001b[0m…\n",
       "  \"Archivo_4\"  => \u001b[1m2500009×4 DataFrame\u001b[0m\u001b[0m…\n",
       "  \"Archivo_1\"  => \u001b[1m2500010×4 DataFrame\u001b[0m\u001b[0m…\n",
       "  \"Archivo_3\"  => \u001b[1m2500010×4 DataFrame\u001b[0m\u001b[0m…\n",
       "  \"Archivo_10\" => \u001b[1m2500009×4 DataFrame\u001b[0m\u001b[0m…"
      ]
     },
     "execution_count": 7,
     "metadata": {},
     "output_type": "execute_result"
    }
   ],
   "source": [
    "# Evaluamos la función\n",
    "base_name = \"Archivo\"\n",
    "n_files = 10\n",
    "\n",
    "read_ratings = read_separated_files(base_name, n_files)"
   ]
  },
  {
   "cell_type": "code",
   "execution_count": 8,
   "metadata": {},
   "outputs": [
    {
     "name": "stdout",
     "output_type": "stream",
     "text": [
      "El total de filas de los 10 files divididos: 25000095\n"
     ]
    }
   ],
   "source": [
    "# Verificamos que la lectura de los archivos divididos tenga el mismo tamaño que la lectura del archivo ratings\n",
    "# Inicializamos la variable del total de filas\n",
    "total_rows = 0\n",
    "\n",
    "for i in 1:10\n",
    "    key = \"Archivo_$i\"  # La key para cada dataframe\n",
    "    if haskey(read_ratings, key)  # Revisamos si existe en el diccionario\n",
    "        total_rows += nrow(read_ratings[key])  # Sumamos las filas\n",
    "    else\n",
    "        println(\"Key $key no existe en el diccionario.\")\n",
    "    end\n",
    "end\n",
    "\n",
    "println(\"El total de filas de los 10 files divididos: $total_rows\")"
   ]
  },
  {
   "cell_type": "code",
   "execution_count": 9,
   "metadata": {},
   "outputs": [
    {
     "data": {
      "text/plain": [
       "10"
      ]
     },
     "execution_count": 9,
     "metadata": {},
     "output_type": "execute_result"
    }
   ],
   "source": [
    "# Contamos las calificaciones por genero\n",
    "# Contando los generos\n",
    "kg = [\"Action\", \"Adventure\", \"Animation\", \"Children\", \"Comedy\", \"Crime\", \"Documentary\",\n",
    "\t\t\"Drama\", \"Fantasy\", \"Film-Noir\", \"Horror\", \"IMAX\", \"Musical\", \"Mystery\", \"Romance\",\n",
    "\t\t\"Sci-Fi\", \"Thriller\", \"War\", \"Western\", \"(no genres listed)\"]\n",
    "ng = length(kg)\n",
    "\n",
    "nF = 10 # Numero de particiones\n",
    "#ra = zeros(ng, nF)\n",
    "#ca = zeros(Int, ng, nF)"
   ]
  },
  {
   "cell_type": "code",
   "execution_count": null,
   "metadata": {},
   "outputs": [],
   "source": [
    "# Función para procesar cada archivo ratings y acumular resultados por género\n",
    "#function process_ratings(ng::Int, genres::Vector{String}, df_movies::DataFrame, df_ratings::DataFrame)\n",
    "#    # Inicializar un vector vacío de diccionarios\n",
    "#    genre_results = []\n",
    "#\n",
    "    # Hacer un inner join entre movies y ratings\n",
    "#    joined_df = innerjoin(df_movies, df_ratings, on=:movieId)\n",
    "\n",
    "    # Calcular sumas y conteos por cada género\n",
    "#    for i in 1:ng\n",
    "        # Filtrar las filas que contienen el género actual\n",
    "#        genre_rows = joined_df[occursin.(genres[i], joined_df.genres), :]\n",
    "#\n",
    "        # Verificar que se hayan encontrado filas con ese género\n",
    "#       count_genre = nrow(genre_rows)  # Número de ratings para el género\n",
    "#        sum_ratings = sum(genre_rows.rating)  # Suma de las calificaciones para el género\n",
    "#\n",
    "        # Crear un diccionario con los resultados para este género\n",
    "#        result = Dict(\n",
    "#            \"genre\" => genres[i],\n",
    "#            \"rating_sum\" => sum_ratings,\n",
    "#            \"rating_count\" => count_genre\n",
    "#        )\n",
    "#\n",
    "        # Agregar el diccionario al vector de resultados\n",
    "#        push!(genre_results, result)\n",
    "#    end\n",
    "#\n",
    "#    return genre_results\n",
    "#end\n",
    "#\n",
    "# Generar el resultado con 5 géneros\n",
    "#genre_results = process_ratings(ng, kg, df_movies, df_ratings)\n",
    "#\n",
    "# Mostrar los resultados\n",
    "#println(genre_results)"
   ]
  },
  {
   "cell_type": "code",
   "execution_count": null,
   "metadata": {},
   "outputs": [],
   "source": [
    "# genre_results"
   ]
  },
  {
   "cell_type": "code",
   "execution_count": 10,
   "metadata": {},
   "outputs": [
    {
     "data": {
      "text/plain": [
       "calcular_generos (generic function with 1 method)"
      ]
     },
     "execution_count": 10,
     "metadata": {},
     "output_type": "execute_result"
    }
   ],
   "source": [
    "# Función que calcula el número de calificaciones por género\n",
    "function calcular_generos(dfr, dfm)\n",
    "\n",
    "    start_time = now()\n",
    "    # Realizar el inner join entre ratings y movies\n",
    "    full_rating = innerjoin(dfr, dfm, on=:movieId)\n",
    "\n",
    "    # Función auxiliar para dividir los géneros y contar\n",
    "    contar_generos(fila, contador) = begin\n",
    "        # Dividir los géneros en la fila actual\n",
    "        generos = split(fila.genres, \"|\")\n",
    "\n",
    "        # Actualizar el contador para cada género\n",
    "        for genero in generos\n",
    "            contador[genero] = get(contador, genero, 0) + 1\n",
    "        end\n",
    "    end\n",
    "\n",
    "    # Crear un contador vacío para almacenar los géneros\n",
    "    contador = Dict{String, Int}()\n",
    "\n",
    "    # Aplicar la función contar_generos a cada fila de la tabla\n",
    "    map(fila -> contar_generos(fila, contador), eachrow(full_rating))\n",
    "\n",
    "    end_time = now()\n",
    "    println(\"Tiempo de ejecución: \", end_time - start_time, \" segundos\")\n",
    "    return contador\n",
    "end"
   ]
  },
  {
   "cell_type": "code",
   "execution_count": 11,
   "metadata": {},
   "outputs": [
    {
     "name": "stdout",
     "output_type": "stream",
     "text": [
      "Tiempo de ejecución: 12613 milliseconds segundos\n"
     ]
    },
    {
     "data": {
      "text/plain": [
       "Dict{String, Int64} with 20 entries:\n",
       "  \"War\"                => 1267346\n",
       "  \"Documentary\"        => 322449\n",
       "  \"Action\"             => 7446918\n",
       "  \"Adventure\"          => 5832424\n",
       "  \"Mystery\"            => 2010995\n",
       "  \"Children\"           => 2124258\n",
       "  \"Thriller\"           => 6763272\n",
       "  \"Sci-Fi\"             => 4325740\n",
       "  \"Comedy\"             => 8926230\n",
       "  \"(no genres listed)\" => 26627\n",
       "  \"IMAX\"               => 1063279\n",
       "  \"Fantasy\"            => 2831585\n",
       "  \"Drama\"              => 10962833\n",
       "  \"Animation\"          => 1630987\n",
       "  \"Western\"            => 483731\n",
       "  \"Horror\"             => 1892183\n",
       "  \"Romance\"            => 4497291\n",
       "  \"Film-Noir\"          => 247227\n",
       "  \"Crime\"              => 4190259\n",
       "  \"Musical\"            => 964252"
      ]
     },
     "execution_count": 11,
     "metadata": {},
     "output_type": "execute_result"
    }
   ],
   "source": [
    "calcular_generos(df_ratings,df_movies)"
   ]
  },
  {
   "cell_type": "code",
   "execution_count": 12,
   "metadata": {},
   "outputs": [
    {
     "name": "stdout",
     "output_type": "stream",
     "text": [
      "Tiempo de ejecución: 1177 milliseconds segundos\n",
      "Tiempo de ejecución: 1131 milliseconds segundos\n",
      "Tiempo de ejecución: 1071 milliseconds segundos\n",
      "Tiempo de ejecución: 1085 milliseconds segundos\n",
      "Tiempo de ejecución: 1318 milliseconds segundos\n",
      "Tiempo de ejecución: 1176 milliseconds segundos\n",
      "Tiempo de ejecución: 1122 milliseconds segundos\n",
      "Tiempo de ejecución: 1328 milliseconds segundos\n",
      "Tiempo de ejecución: 1146 milliseconds segundos\n",
      "Tiempo de ejecución: 1125 milliseconds segundos\n",
      "Tiempo de ejecución: 11982 milliseconds segundos\n"
     ]
    }
   ],
   "source": [
    "# Arreglo para almacenar los resultados de cada hilo\n",
    "results = Vector{Dict{String, Int}}(undef, 10) \n",
    "\n",
    "st = now()\n",
    "# Inicializar los hilos\n",
    "Threads.@threads for i in 1:10\n",
    "    key = \"Archivo_$(i)\"  # Create the key dynamically\n",
    "    if haskey(read_ratings, key)\n",
    "        results[i] = calcular_generos(read_ratings[key],df_movies)  # Print the value associated with the key\n",
    "    else\n",
    "        results[i] = Dict{String, Int}()  # Si no existe la clave, crea un diccionario vacío\n",
    "    end\n",
    "end\n",
    "\n",
    "en = now()\n",
    "println(\"Tiempo de ejecución: \", en - st, \" segundos\")"
   ]
  },
  {
   "cell_type": "code",
   "execution_count": 13,
   "metadata": {},
   "outputs": [
    {
     "name": "stdout",
     "output_type": "stream",
     "text": [
      "Dict(\"War\" => 1267346, \"Documentary\" => 322449, \"Action\" => 7446918, \"Adventure\" => 5832424, \"Mystery\" => 2010995, \"Children\" => 2124258, \"Thriller\" => 6763272, \"Sci-Fi\" => 4325740, \"Comedy\" => 8926230, \"(no genres listed)\" => 26627, \"IMAX\" => 1063279, \"Fantasy\" => 2831585, \"Drama\" => 10962833, \"Animation\" => 1630987, \"Western\" => 483731, \"Horror\" => 1892183, \"Romance\" => 4497291, \"Film-Noir\" => 247227, \"Crime\" => 4190259, \"Musical\" => 964252)\n"
     ]
    }
   ],
   "source": [
    "# Inicializar un diccionario para la suma total de géneros\n",
    "suma_total = Dict{String, Int}()\n",
    "\n",
    "# Sumar los resultados de todos los diccionarios en results\n",
    "for diccionario in results\n",
    "    if diccionario !== nothing  # Verificar que el diccionario no sea `nothing`\n",
    "        for (genero, conteo) in diccionario\n",
    "            suma_total[genero] = get(suma_total, genero, 0) + conteo\n",
    "        end\n",
    "    end\n",
    "end\n",
    "\n",
    "# Mostrar la suma total de géneros\n",
    "println(suma_total)"
   ]
  },
  {
   "cell_type": "code",
   "execution_count": 14,
   "metadata": {},
   "outputs": [
    {
     "name": "stdout",
     "output_type": "stream",
     "text": [
      "(no genres listed): 26627\n",
      "Action: 7446918\n",
      "Adventure: 5832424\n",
      "Animation: 1630987\n",
      "Children: 2124258\n",
      "Comedy: 8926230\n",
      "Crime: 4190259\n",
      "Documentary: 322449\n",
      "Drama: 10962833\n",
      "Fantasy: 2831585\n",
      "Film-Noir: 247227\n",
      "Horror: 1892183\n",
      "IMAX: 1063279\n",
      "Musical: 964252\n",
      "Mystery: 2010995\n",
      "Romance: 4497291\n",
      "Sci-Fi: 4325740\n",
      "Thriller: 6763272\n",
      "War: 1267346\n",
      "Western: 483731\n"
     ]
    }
   ],
   "source": [
    "# Sort by keys alphabetically in descending order\n",
    "sorted_by_key_desc = sort(collect(suma_total), by=x->x[1], rev=false)\n",
    "\n",
    "# Print sorted results\n",
    "for (key, value) in sorted_by_key_desc\n",
    "    println(\"$key: $value\")\n",
    "end"
   ]
  }
 ],
 "metadata": {
  "kernelspec": {
   "display_name": "Julia 1.11.1",
   "language": "julia",
   "name": "julia-1.11"
  },
  "language_info": {
   "file_extension": ".jl",
   "mimetype": "application/julia",
   "name": "julia",
   "version": "1.11.1"
  }
 },
 "nbformat": 4,
 "nbformat_minor": 2
}
